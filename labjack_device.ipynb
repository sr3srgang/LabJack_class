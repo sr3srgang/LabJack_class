{
 "cells": [
  {
   "cell_type": "code",
   "execution_count": null,
   "metadata": {},
   "outputs": [
    {
     "name": "stdout",
     "output_type": "stream",
     "text": [
      ">>> Connecting to LabJack... Done. Execution time: 0.006010 s\n",
      "\n",
      "LabJack device instance:\n",
      "\tDevice type: T7\n",
      "\tConnection type: ETHERNET\n",
      "\tIP address: 192.168.1.128, Port: (502,)\n",
      "\tSerial number: 470033287\n",
      "\tMax bytes per MB: 1040\n",
      "\n",
      ">>> Configuring LabJack for streaming... Done. Execution time: 0.000988 s\n",
      "\n"
     ]
    }
   ],
   "source": [
    "from labjack_device import LabJackDevice\n",
    "from _ljm_aux import *\n",
    "\n",
    "lj_device = LabJackDevice(\n",
    "        device_type=LabJackDeviceTypeEnum.T7,\n",
    "        connection_type=LabJackConnectionTypeEnum.ETHERNET,\n",
    "        device_identifier='192.168.1.128',\n",
    "    )\n",
    "\n",
    "# working\n",
    "stream_in = lj_device.stream_in([\"AIN0\", \"AIN1\"], 10, sampling_rate_Hz=50e3, scans_per_read=50000)\n",
    "# too high sampling rate\n",
    "# stream_in = lj_device.stream_in([\"AIN0\", \"AIN1\"], 10, sampling_rate_Hz=100e3, scans_per_read=50000)\n",
    "\n",
    "print(stream_in)\n",
    "print()\n",
    "total_nans = np.sum([np.isnan(value['V']).sum() for value in stream_in.records.values()])\n",
    "print(f\"Recounting skipped total samples = {total_nans}\")\n",
    "del lj_device"
   ]
  },
  {
   "cell_type": "code",
   "execution_count": 4,
   "metadata": {},
   "outputs": [
    {
     "data": {
      "image/png": "[encoded data removed]",
      "text/plain": [
       "<Figure size 640x480 with 1 Axes>"
      ]
     },
     "metadata": {},
     "output_type": "display_data"
    }
   ],
   "source": [
    "import matplotlib.pyplot as plt\n",
    "\n",
    "fig, ax = plt.subplots()\n",
    "for channel, record in stream_in.records.items():\n",
    "    ax.plot(record[\"t\"], record[\"V\"], label=channel)\n",
    "\n",
    "    "
   ]
  },
  {
   "cell_type": "code",
   "execution_count": null,
   "metadata": {},
   "outputs": [
    {
     "ename": "AttributeError",
     "evalue": "'StreamIn' object has no attribute '_total_a_data'",
     "output_type": "error",
     "traceback": [
      "\u001b[31m---------------------------------------------------------------------------\u001b[39m",
      "\u001b[31mAttributeError\u001b[39m                            Traceback (most recent call last)",
      "\u001b[36mCell\u001b[39m\u001b[36m \u001b[39m\u001b[32mIn[24]\u001b[39m\u001b[32m, line 2\u001b[39m\n\u001b[32m      1\u001b[39m \u001b[38;5;66;03m# print(type(stream_in._total_a_data))\u001b[39;00m\n\u001b[32m----> \u001b[39m\u001b[32m2\u001b[39m \u001b[38;5;28;01mif\u001b[39;00m \u001b[38;5;129;01mnot\u001b[39;00m \u001b[43mstream_in\u001b[49m\u001b[43m.\u001b[49m\u001b[43m_total_a_data\u001b[49m:\n\u001b[32m      3\u001b[39m     \u001b[38;5;28mprint\u001b[39m(\u001b[38;5;28;01mTrue\u001b[39;00m)\n",
      "\u001b[31mAttributeError\u001b[39m: 'StreamIn' object has no attribute '_total_a_data'"
     ]
    }
   ],
   "source": []
  },
  {
   "cell_type": "code",
   "execution_count": null,
   "metadata": {},
   "outputs": [
    {
     "name": "stdout",
     "output_type": "stream",
     "text": [
      "[-9999. -9999. -9999. ... -9999. -9999. -9999.]\n"
     ]
    }
   ],
   "source": [
    "V = stream_in.records[\"AIN0\"][\"V\"]\n",
    "print(V[V < -20])\n"
   ]
  }
 ],
 "metadata": {
  "kernelspec": {
   "display_name": "labjack",
   "language": "python",
   "name": "python3"
  },
  "language_info": {
   "codemirror_mode": {
    "name": "ipython",
    "version": 3
   },
   "file_extension": ".py",
   "mimetype": "text/x-python",
   "name": "python",
   "nbconvert_exporter": "python",
   "pygments_lexer": "ipython3",
   "version": "3.11.11"
  }
 },
 "nbformat": 4,
 "nbformat_minor": 2
}
