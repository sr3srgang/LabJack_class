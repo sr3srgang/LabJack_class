{
 "cells": [
  {
   "cell_type": "code",
   "execution_count": null,
   "metadata": {},
   "outputs": [
    {
     "name": "stderr",
     "output_type": "stream",
     "text": [
      "Exception ignored in: <function LabJackDevice.__del__ at 0x000002717EB21260>\n",
      "Traceback (most recent call last):\n",
      "  File \"h:\\Codes\\labjack_T7_monitor_developement\\LabJack_class\\labjack_device.py\", line 156, in __del__\n",
      "    self.__exit__(None, None, None)\n",
      "  File \"h:\\Codes\\labjack_T7_monitor_developement\\LabJack_class\\labjack_device.py\", line 147, in __exit__\n",
      "    self._disconnect()\n",
      "  File \"h:\\Codes\\labjack_T7_monitor_developement\\LabJack_class\\labjack_device.py\", line 124, in _disconnect\n",
      "    raise LabJackDisconnectionError(\"LabJack library-level error\") from ljmex\n",
      "_ljm_aux.LabJackDisconnectionError: LabJack library-level error\n"
     ]
    },
    {
     "name": "stdout",
     "output_type": "stream",
     "text": [
      ">>> Connecting to LabJack... Done. Execution time: 0.005682 s\n",
      "\n",
      "LabJack device instance:\n",
      "\tDevice type: T7\n",
      "\tConnection type: ETHERNET\n",
      "\tIP address: 192.168.1.92, Port: (502,)\n",
      "\tSerial number: 470033665\n",
      "\tMax bytes per MB: 1040\n",
      "\n",
      ">>> Configuring LabJack for streaming... Done. Execution time: 0.001007 s\n",
      "\n",
      ">>> Disconnecting LabJack (SN: 470033665)... "
     ]
    },
    {
     "name": "stdout",
     "output_type": "stream",
     "text": [
      ">>> Streaming starting... Started.\n"
     ]
    },
    {
     "name": "stdout",
     "output_type": "stream",
     "text": [
      ">>> Stopping Stream...\n",
      "\n",
      "\teStreamRead 1 out of 1 returned at 2025-03-26 11:19:55.802236.\n",
      "\t\tScans Skipped across channels = 0, Scan Backlogs: Device = 5, LJM = 368\n",
      "\n",
      "<<< Stream stopped.\n",
      "\n",
      "\t# scans = 500000 total, 250000/channel\tSkipped scans across channels = 0\n",
      "\n"
     ]
    }
   ],
   "source": [
    "from labjack_device import LabJackDevice\n",
    "from _ljm_aux import *\n",
    "\n",
    "lj_device = LabJackDevice(\n",
    "        device_type=LabJackDeviceTypeEnum.T7,\n",
    "        connection_type=LabJackConnectionTypeEnum.ETHERNET,\n",
    "        device_identifier='192.168.1.92',\n",
    "    )\n",
    "\n",
    "# # working\n",
    "# stream_in = lj_device.stream_in([\"AIN0\", \"AIN1\"], 10, sampling_rate_Hz=50e3, scans_per_read=50000)\n",
    "# working\n",
    "stream_in = lj_device.stream_in([\"AIN0\", \"AIN1\"], 10, sampling_rate_Hz=50e3)\n",
    "# # too high sampling rate\n",
    "# stream_in = lj_device.stream_in([\"AIN0\", \"AIN1\"], 10, sampling_rate_Hz=100e3, scans_per_read=50000)"
   ]
  },
  {
   "cell_type": "code",
   "execution_count": 22,
   "metadata": {},
   "outputs": [
    {
     "name": "stdout",
     "output_type": "stream",
     "text": [
      "Labjack streamed read data:\n",
      "\trecords = \n",
      "\t\t{'AIN0': {'V': array([10.10502052,  4.30618286,  2.07505918, ..., -0.28106913,\n",
      "\t\t       -0.28170055, -0.28170055], shape=(250000,)),\n",
      "\t\t          't': array([0.000000e+00, 8.000000e-05, 1.600000e-04, ..., 1.999976e+01,\n",
      "\t\t       1.999984e+01, 1.999992e+01], shape=(250000,))},\n",
      "\t\t 'AIN1': {'V': array([0.00118161, 0.00118161, 0.00086586, ..., 0.00118161, 0.0005501 ,\n",
      "\t\t       0.00118161], shape=(250000,)),\n",
      "\t\t          't': array([4.000000e-05, 1.200000e-04, 2.000000e-04, ..., 1.999980e+01,\n",
      "\t\t       1.999988e+01, 1.999996e+01], shape=(250000,))}}\n",
      "\tduration = 10.0 s\n",
      "\tsampling rate = 50000.0 total samples/s, 25000.0 samples/s/channel\n",
      "\ttriggered = False\n",
      "\n",
      "Recounting skipped total samples = 0\n"
     ]
    }
   ],
   "source": [
    "print(stream_in)\n",
    "print()\n",
    "total_nans = np.sum([np.isnan(value['V']).sum() for value in stream_in.records.values()])\n",
    "print(f\"Recounting skipped total samples = {total_nans}\")\n",
    "del lj_device"
   ]
  },
  {
   "cell_type": "code",
   "execution_count": 23,
   "metadata": {},
   "outputs": [
    {
     "data": {
      "image/png": "[encoded data removed]",
      "text/plain": [
       "<Figure size 640x480 with 1 Axes>"
      ]
     },
     "metadata": {},
     "output_type": "display_data"
    }
   ],
   "source": [
    "import matplotlib.pyplot as plt\n",
    "\n",
    "fig, ax = plt.subplots()\n",
    "n_skip_head = 100\n",
    "for channel, record in stream_in.records.items():\n",
    "    ax.plot(record[\"t\"][n_skip_head:], record[\"V\"][n_skip_head:], label=channel)\n",
    "\n",
    "    "
   ]
  }
 ],
 "metadata": {
  "kernelspec": {
   "display_name": "labjack",
   "language": "python",
   "name": "python3"
  },
  "language_info": {
   "codemirror_mode": {
    "name": "ipython",
    "version": 3
   },
   "file_extension": ".py",
   "mimetype": "text/x-python",
   "name": "python",
   "nbconvert_exporter": "python",
   "pygments_lexer": "ipython3",
   "version": "3.11.11"
  }
 },
 "nbformat": 4,
 "nbformat_minor": 2
}
